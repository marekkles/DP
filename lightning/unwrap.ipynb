{
 "cells": [
  {
   "cell_type": "code",
   "execution_count": 1,
   "metadata": {},
   "outputs": [],
   "source": [
    "import pytorch_lightning as pl"
   ]
  },
  {
   "cell_type": "code",
   "execution_count": 2,
   "metadata": {},
   "outputs": [],
   "source": [
    "from dataset import IrisDataset"
   ]
  },
  {
   "cell_type": "code",
   "execution_count": 3,
   "metadata": {},
   "outputs": [],
   "source": [
    "ds = IrisDataset(\"../../Datasets\", [\"train_iris_nd_crosssensor_2013\"])"
   ]
  },
  {
   "cell_type": "code",
   "execution_count": null,
   "metadata": {},
   "outputs": [],
   "source": [
    "index = 1234\n",
    "img_path = os.path.join(\n",
    "    self.root, entry['__subset'],\n",
    "    entry['image_id'],'iris_right.UNKNOWN'\n",
    ")\n",
    "ds.entry_list[index]\n",
    "pic = Image.open(img_path).convert('L')\n",
    "if self.autocrop:\n",
    "    pic = pic.crop((\n",
    "        float(entry['pos_x'])-float(entry['radius_1']),\n",
    "        float(entry['pos_y'])-float(entry['radius_1']),\n",
    "        float(entry['pos_x'])+float(entry['radius_1']),\n",
    "        float(entry['pos_y'])+float(entry['radius_1']),\n",
    "    ))"
   ]
  }
 ],
 "metadata": {
  "interpreter": {
   "hash": "e7370f93d1d0cde622a1f8e1c04877d8463912d04d973331ad4851f04de6915a"
  },
  "kernelspec": {
   "display_name": "Python 3.8.10 64-bit",
   "language": "python",
   "name": "python3"
  },
  "language_info": {
   "codemirror_mode": {
    "name": "ipython",
    "version": 3
   },
   "file_extension": ".py",
   "mimetype": "text/x-python",
   "name": "python",
   "nbconvert_exporter": "python",
   "pygments_lexer": "ipython3",
   "version": "3.8.10"
  },
  "orig_nbformat": 4
 },
 "nbformat": 4,
 "nbformat_minor": 2
}
