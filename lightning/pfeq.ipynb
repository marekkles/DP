{
 "cells": [
  {
   "cell_type": "code",
   "execution_count": 1,
   "metadata": {},
   "outputs": [],
   "source": [
    "import pickle\n",
    "import numpy as np\n",
    "RUNS_ROOT = \"../../Runs\""
   ]
  },
  {
   "cell_type": "code",
   "execution_count": null,
   "metadata": {},
   "outputs": [],
   "source": [
    "run_name=\"iresnet50-MagFaceLoss-1647016521\""
   ]
  },
  {
   "cell_type": "code",
   "execution_count": 3,
   "metadata": {},
   "outputs": [],
   "source": [
    "with open(f\"{RUNS_ROOT}/{run_name}/deviation-{run_name}.pickle\", \"rb\") as f:\n",
    "    preds = pickle.load(f)\n",
    "qs = {}\n",
    "for p in preds:\n",
    "    qs[p] = np.sum(preds[p])\n",
    "with open(f\"{RUNS_ROOT}/{run_name}/quality-{run_name}.pickle\", \"wb\") as f:\n",
    "    pickle.dump(qs, f)"
   ]
  },
  {
   "cell_type": "code",
   "execution_count": null,
   "metadata": {},
   "outputs": [],
   "source": []
  }
 ],
 "metadata": {
  "interpreter": {
   "hash": "4915fbb99b08a174fb53e6404b28fc2ec04023e9a6040041ce5abd82ce63ea76"
  },
  "kernelspec": {
   "display_name": "Python 3.10.2 64-bit ('3.10.2')",
   "language": "python",
   "name": "python3"
  },
  "language_info": {
   "codemirror_mode": {
    "name": "ipython",
    "version": 3
   },
   "file_extension": ".py",
   "mimetype": "text/x-python",
   "name": "python",
   "nbconvert_exporter": "python",
   "pygments_lexer": "ipython3",
   "version": "3.8.10"
  },
  "orig_nbformat": 4
 },
 "nbformat": 4,
 "nbformat_minor": 2
}
