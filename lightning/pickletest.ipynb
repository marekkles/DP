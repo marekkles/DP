{
 "cells": [
  {
   "cell_type": "code",
   "execution_count": 1,
   "metadata": {},
   "outputs": [],
   "source": [
    "import pickle"
   ]
  },
  {
   "cell_type": "code",
   "execution_count": 103,
   "metadata": {},
   "outputs": [],
   "source": [
    "rs = [\"iresnet50-ArcFaceLoss-1646900877\",  \"iresnet50-CosFaceLoss-1646929164\",\n",
    "\"iresnet50-ArcFaceLoss-1646916504\",  \"iresnet50-MagFaceLoss-1647016521\"]"
   ]
  },
  {
   "cell_type": "code",
   "execution_count": 113,
   "metadata": {},
   "outputs": [],
   "source": [
    "run_name=rs[3]\n",
    "dataset=\"iris_verification_NDCSI2013_01_05\"\n",
    "with open(f\"../../evaluations/prediction-{run_name}.pickle\", \"rb\") as f:\n",
    "    eval = pickle.load(f)\n",
    "with open(f\"../../Datasets/{dataset}/pairs.csv\") as m:\n",
    "    import csv\n",
    "    reader = csv.reader(m, delimiter=',')\n",
    "    head = next(reader)\n",
    "    pairs = [(int(row[0]), int(row[1])) for row in reader]\n",
    "with open(f\"../../Datasets/{dataset}/impostors.csv\") as i:\n",
    "    import csv\n",
    "    reader = csv.reader(i, delimiter=',')\n",
    "    head = next(reader)\n",
    "    impostors = [(int(row[0]), int(row[1])) for row in reader]\n",
    "def compute_distances(doubles, vectors, distances = [\"euclidean\", \"cityblock\", \"cosine\"]):\n",
    "    import numpy as np\n",
    "    import scipy.spatial as sp\n",
    "    distances = dict([(distance_name, []) for distance_name in distances])\n",
    "    for a,b in doubles:\n",
    "        a_vec = vectors[a]\n",
    "        b_vec = vectors[b]\n",
    "        for distance_name in distances:\n",
    "            d = sp.distance.__dict__[distance_name](a_vec, b_vec)\n",
    "            distances[distance_name].append(d)\n",
    "    return distances\n",
    "pairs_distances = compute_distances(pairs, eval)\n",
    "impostors_distances = compute_distances(impostors, eval)\n",
    "with open(f\"../../evaluations/scores-{run_name}.pickle\", \"wb\") as f:\n",
    "    eval = pickle.dump({\n",
    "        \"pairs_data\": pairs, \n",
    "        \"impostors_data\": impostors, \n",
    "        \"pairs\":pairs_distances, \n",
    "        \"impostors\": impostors_distances\n",
    "    }, f)"
   ]
  },
  {
   "cell_type": "code",
   "execution_count": 108,
   "metadata": {},
   "outputs": [],
   "source": []
  },
  {
   "cell_type": "code",
   "execution_count": 109,
   "metadata": {},
   "outputs": [],
   "source": []
  },
  {
   "cell_type": "code",
   "execution_count": null,
   "metadata": {},
   "outputs": [],
   "source": []
  }
 ],
 "metadata": {
  "interpreter": {
   "hash": "31f2aee4e71d21fbe5cf8b01ff0e069b9275f58929596ceb00d14d90e3e16cd6"
  },
  "kernelspec": {
   "display_name": "Python 3.8.10 64-bit",
   "language": "python",
   "name": "python3"
  },
  "language_info": {
   "codemirror_mode": {
    "name": "ipython",
    "version": 3
   },
   "file_extension": ".py",
   "mimetype": "text/x-python",
   "name": "python",
   "nbconvert_exporter": "python",
   "pygments_lexer": "ipython3",
   "version": "3.8.10"
  },
  "orig_nbformat": 4
 },
 "nbformat": 4,
 "nbformat_minor": 2
}
