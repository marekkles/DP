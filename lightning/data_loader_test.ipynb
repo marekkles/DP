{
 "cells": [
  {
   "cell_type": "code",
   "execution_count": 1,
   "metadata": {},
   "outputs": [],
   "source": [
    "import pytorch_lightning as pl"
   ]
  },
  {
   "cell_type": "code",
   "execution_count": 2,
   "metadata": {},
   "outputs": [],
   "source": [
    "import torch\n",
    "from torchvision import transforms\n",
    "from torch.utils.data import DataLoader\n",
    "from dataset import *"
   ]
  },
  {
   "cell_type": "code",
   "execution_count": 4,
   "metadata": {},
   "outputs": [],
   "source": [
    "\n",
    "args = {\n",
    "    \"datasets\" : [\n",
    "        \"../../Datasets/train_iris_nd_crosssensor_2013\", \n",
    "        \"../../Datasets/train_iris_casia_v4\",\n",
    "        \"../../train_iris_inno_a1\",\n",
    "        \"../../Datasets/train_iris_nd_0405\",\n",
    "        \"../../Datasets/train_iris_utris_v1\"\n",
    "    ],\n",
    "    \"predict_dataset\" : \"../../Datasets/iris_verification_iitd_01_01\",\n",
    "    \"train_transform\" : {\n",
    "        \"Resize\" : {\"size\":[225,225]},\n",
    "        \"RandomInvert\" : {\"p\":0.2},\n",
    "        \"Normalize\" : {\"mean\":[0.5], \"std\":[0.25]},\n",
    "        \"RandomAdjustSharpness\"  : {\"sharpness_factor\":3,\"p\":0.5},\n",
    "        \"RandomAutocontrast\" : {\"p\":0.5},\n",
    "        \"RandomAffine\": {\n",
    "            \"degrees\":10, \n",
    "            \"translate\":[0.3, 0.3],\n",
    "            \"scale\":[0.8, 2],\n",
    "            \"shear\":5,\n",
    "            \"fill\":0\n",
    "        },\n",
    "        \"RandomErasing\":{\n",
    "            \"p\":0.5, \n",
    "            \"scale\":[0.02, 0.33],\n",
    "            \"ratio\":[0.3, 3.3],\n",
    "            \"value\":0, \n",
    "            \"inplace\":False\n",
    "        }\n",
    "    },\n",
    "    \"val_transform\" : {\n",
    "        \"Resize\" : {\"size\":[225,225]},\n",
    "        \"Normalize\" : {\"mean\":[0.5], \"std\":[0.25]},\n",
    "    },\n",
    "    \"test_transform\" : {\n",
    "        \"Resize\" : {\"size\":[225,225]},\n",
    "        \"Normalize\" : {\"mean\":[0.5], \"std\":[0.25]},\n",
    "    },\n",
    "    \"predict_transform\" : {\n",
    "        \"Resize\" : {\"size\":[225,225]},\n",
    "        \"Normalize\" : {\"mean\":[0.5], \"std\":[0.25]},\n",
    "    }\n",
    "}"
   ]
  },
  {
   "cell_type": "code",
   "execution_count": 5,
   "metadata": {},
   "outputs": [],
   "source": [
    "train_transform = transforms.Compose([\n",
    "    transforms.ConvertImageDtype(torch.float),\n",
    "    transforms.RandomAffine(**args[\"train_transform\"][\"RandomAffine\"]),\n",
    "    transforms.RandomAdjustSharpness(\n",
    "        **args[\"train_transform\"][\"RandomAdjustSharpness\"]\n",
    "    ),\n",
    "    transforms.RandomAutocontrast(\n",
    "        **args[\"train_transform\"][\"RandomAutocontrast\"]\n",
    "    ),\n",
    "    transforms.Resize(**args[\"train_transform\"][\"Resize\"]),\n",
    "    transforms.RandomInvert(**args[\"train_transform\"][\"RandomInvert\"]),\n",
    "    transforms.RandomErasing(**args[\"train_transform\"][\"RandomErasing\"]),\n",
    "    transforms.Normalize(**args[\"train_transform\"][\"Normalize\"]),\n",
    "])\n",
    "#val transforms\n",
    "val_transform=transforms.Compose([\n",
    "    transforms.Resize(**args[\"val_transform\"][\"Resize\"]),\n",
    "    transforms.ConvertImageDtype(torch.float),\n",
    "    transforms.Normalize(**args[\"val_transform\"][\"Normalize\"]),\n",
    "])\n",
    "#test transforms\n",
    "test_transform=transforms.Compose([\n",
    "    transforms.Resize(**args[\"test_transform\"][\"Resize\"]),\n",
    "    transforms.ConvertImageDtype(torch.float),\n",
    "    transforms.Normalize(**args[\"test_transform\"][\"Normalize\"]),\n",
    "])\n",
    "#predict transforms \n",
    "predict_transform=transforms.Compose([\n",
    "    transforms.Resize(**args[\"predict_transform\"][\"Resize\"]),\n",
    "    transforms.ConvertImageDtype(torch.float),\n",
    "    transforms.Normalize(**args[\"predict_transform\"][\"Normalize\"]),\n",
    "])"
   ]
  },
  {
   "cell_type": "code",
   "execution_count": 110,
   "metadata": {},
   "outputs": [],
   "source": [
    "# data\n",
    "data_loader = IrisDataModule(\n",
    "    data_dir= args[\"datasets\"],\n",
    "    predic_data_dir=args[\"predict_dataset\"],\n",
    "    train_transform=train_transform,\n",
    "    val_transform=val_transform,\n",
    "    test_transform=test_transform,\n",
    "    predict_transform=predict_transform\n",
    ")"
   ]
  },
  {
   "cell_type": "code",
   "execution_count": 111,
   "metadata": {},
   "outputs": [],
   "source": [
    "data_loader.setup()"
   ]
  },
  {
   "cell_type": "code",
   "execution_count": 112,
   "metadata": {},
   "outputs": [
    {
     "name": "stdout",
     "output_type": "stream",
     "text": [
      "117858 2540\n"
     ]
    }
   ],
   "source": [
    "print(len(data_loader.iris_full), data_loader.num_classes)"
   ]
  },
  {
   "cell_type": "code",
   "execution_count": 113,
   "metadata": {},
   "outputs": [],
   "source": [
    "dl = data_loader.train_dataloader()"
   ]
  },
  {
   "cell_type": "code",
   "execution_count": 114,
   "metadata": {},
   "outputs": [],
   "source": [
    "input=None\n",
    "target=None\n",
    "for x,y in dl:\n",
    "    input=x\n",
    "    target=y\n",
    "    break"
   ]
  },
  {
   "cell_type": "code",
   "execution_count": 115,
   "metadata": {},
   "outputs": [
    {
     "data": {
      "text/plain": [
       "tensor(2269)"
      ]
     },
     "execution_count": 115,
     "metadata": {},
     "output_type": "execute_result"
    }
   ],
   "source": [
    "target.max()"
   ]
  },
  {
   "cell_type": "code",
   "execution_count": 116,
   "metadata": {},
   "outputs": [],
   "source": [
    "import matplotlib.pyplot as plt"
   ]
  },
  {
   "cell_type": "code",
   "execution_count": 117,
   "metadata": {},
   "outputs": [
    {
     "data": {
      "image/png": "[encoded data removed]",
      "text/plain": [
       "<Figure size 432x288 with 16 Axes>"
      ]
     },
     "metadata": {
      "needs_background": "light"
     },
     "output_type": "display_data"
    }
   ],
   "source": [
    "for i in range(16):\n",
    "    ax = plt.subplot(4, 4, i+1)\n",
    "    ax.imshow(input[i][0],cmap='gray')"
   ]
  },
  {
   "cell_type": "code",
   "execution_count": 77,
   "metadata": {},
   "outputs": [
    {
     "data": {
      "text/plain": [
       "tensor(0.)"
      ]
     },
     "execution_count": 77,
     "metadata": {},
     "output_type": "execute_result"
    }
   ],
   "source": []
  },
  {
   "cell_type": "code",
   "execution_count": 59,
   "metadata": {},
   "outputs": [],
   "source": [
    "import yaml"
   ]
  },
  {
   "cell_type": "code",
   "execution_count": 60,
   "metadata": {},
   "outputs": [],
   "source": [
    "with open('args.yaml', 'w') as f:\n",
    "    yaml.dump(args, f)"
   ]
  },
  {
   "cell_type": "code",
   "execution_count": 61,
   "metadata": {},
   "outputs": [],
   "source": [
    "import json"
   ]
  },
  {
   "cell_type": "code",
   "execution_count": 63,
   "metadata": {},
   "outputs": [],
   "source": [
    "with open('args.json', 'w') as f:\n",
    "    json.dump(args, f, indent=4)"
   ]
  },
  {
   "cell_type": "code",
   "execution_count": 21,
   "metadata": {},
   "outputs": [],
   "source": [
    "emnist = EMNISTDataModule('emnist/')"
   ]
  },
  {
   "cell_type": "code",
   "execution_count": 22,
   "metadata": {},
   "outputs": [
    {
     "name": "stdout",
     "output_type": "stream",
     "text": [
      "Downloading https://www.itl.nist.gov/iaui/vip/cs_links/EMNIST/gzip.zip to emnist/EMNIST/raw/gzip.zip\n"
     ]
    },
    {
     "name": "stderr",
     "output_type": "stream",
     "text": [
      "561754112it [01:18, 7111333.86it/s]                                \n"
     ]
    },
    {
     "name": "stdout",
     "output_type": "stream",
     "text": [
      "Extracting emnist/EMNIST/raw/gzip.zip to emnist/EMNIST/raw\n"
     ]
    }
   ],
   "source": [
    "emnist.prepare_data()"
   ]
  },
  {
   "cell_type": "code",
   "execution_count": 23,
   "metadata": {},
   "outputs": [
    {
     "name": "stderr",
     "output_type": "stream",
     "text": [
      "/usr/local/lib/python3.8/dist-packages/pytorch_lightning/core/datamodule.py:114: LightningDeprecationWarning: DataModule property `train_transforms` was deprecated in v1.5 and will be removed in v1.7.\n",
      "  rank_zero_deprecation(\n",
      "/usr/local/lib/python3.8/dist-packages/pytorch_lightning/core/datamodule.py:133: LightningDeprecationWarning: DataModule property `val_transforms` was deprecated in v1.5 and will be removed in v1.7.\n",
      "  rank_zero_deprecation(\n",
      "/usr/local/lib/python3.8/dist-packages/pytorch_lightning/core/datamodule.py:152: LightningDeprecationWarning: DataModule property `test_transforms` was deprecated in v1.5 and will be removed in v1.7.\n",
      "  rank_zero_deprecation(\n"
     ]
    }
   ],
   "source": [
    "emnist.setup()"
   ]
  },
  {
   "cell_type": "code",
   "execution_count": 24,
   "metadata": {},
   "outputs": [],
   "source": [
    "t_dl = emnist.train_dataloader()"
   ]
  },
  {
   "cell_type": "code",
   "execution_count": 25,
   "metadata": {},
   "outputs": [],
   "source": [
    "input=None\n",
    "target=None\n",
    "for x,y in t_dl:\n",
    "    input=x\n",
    "    target=y\n",
    "    break"
   ]
  },
  {
   "cell_type": "code",
   "execution_count": 7,
   "metadata": {},
   "outputs": [],
   "source": [
    "ds = IrisVerificationDataset(\"../../Datasets/iris_verification_nd_0405_01_01\", transform=predict_transform)"
   ]
  },
  {
   "cell_type": "code",
   "execution_count": 8,
   "metadata": {},
   "outputs": [],
   "source": [
    "dl = DataLoader(ds, 30)\n"
   ]
  },
  {
   "cell_type": "code",
   "execution_count": 9,
   "metadata": {},
   "outputs": [],
   "source": [
    "for i,l in dl:\n",
    "    b = (i,l)\n",
    "    break"
   ]
  },
  {
   "cell_type": "code",
   "execution_count": 10,
   "metadata": {},
   "outputs": [
    {
     "data": {
      "text/plain": [
       "(tensor([[[1.3255, 1.2157, 1.1373,  ..., 0.8863, 0.8706, 0.9020],\n",
       "          [1.2000, 1.2784, 1.2314,  ..., 0.9647, 0.8392, 0.9020],\n",
       "          [1.2471, 1.2784, 1.2471,  ..., 0.9490, 0.8549, 0.8392],\n",
       "          ...,\n",
       "          [1.4824, 1.4353, 1.4824,  ..., 0.3059, 0.1333, 0.0863],\n",
       "          [1.4039, 1.4353, 1.4824,  ..., 0.2902, 0.2118, 0.1804],\n",
       "          [1.5294, 1.5608, 1.5137,  ..., 0.2275, 0.2902, 0.1647]]]),\n",
       " 'iris_nd_0405@00_04214d157')"
      ]
     },
     "execution_count": 10,
     "metadata": {},
     "output_type": "execute_result"
    }
   ],
   "source": [
    "ds[0]"
   ]
  },
  {
   "cell_type": "code",
   "execution_count": 12,
   "metadata": {},
   "outputs": [
    {
     "data": {
      "text/plain": [
       "('iris_nd_0405@00_04214d157',\n",
       " 'iris_nd_0405@00_04214d158',\n",
       " 'iris_nd_0405@00_04214d159',\n",
       " 'iris_nd_0405@00_04214d160',\n",
       " 'iris_nd_0405@00_04214d161',\n",
       " 'iris_nd_0405@00_04214d162',\n",
       " 'iris_nd_0405@00_04214d163',\n",
       " 'iris_nd_0405@00_04214d164',\n",
       " 'iris_nd_0405@00_04214d165',\n",
       " 'iris_nd_0405@00_04214d166',\n",
       " 'iris_nd_0405@00_04214d168',\n",
       " 'iris_nd_0405@00_04214d169',\n",
       " 'iris_nd_0405@00_04214d170',\n",
       " 'iris_nd_0405@00_04214d171',\n",
       " 'iris_nd_0405@00_04214d172',\n",
       " 'iris_nd_0405@00_04214d173',\n",
       " 'iris_nd_0405@00_04214d174',\n",
       " 'iris_nd_0405@00_04214d175',\n",
       " 'iris_nd_0405@00_04221d1136',\n",
       " 'iris_nd_0405@00_04221d1137',\n",
       " 'iris_nd_0405@00_04221d1138',\n",
       " 'iris_nd_0405@00_04221d1139',\n",
       " 'iris_nd_0405@00_04221d1140',\n",
       " 'iris_nd_0405@00_04221d1141',\n",
       " 'iris_nd_0405@00_04221d1142',\n",
       " 'iris_nd_0405@00_04221d1143',\n",
       " 'iris_nd_0405@00_04221d1144',\n",
       " 'iris_nd_0405@00_04221d1145',\n",
       " 'iris_nd_0405@00_04221d1146',\n",
       " 'iris_nd_0405@00_04221d1149')"
      ]
     },
     "execution_count": 12,
     "metadata": {},
     "output_type": "execute_result"
    }
   ],
   "source": [
    "b[1]"
   ]
  },
  {
   "cell_type": "code",
   "execution_count": null,
   "metadata": {},
   "outputs": [],
   "source": []
  }
 ],
 "metadata": {
  "interpreter": {
   "hash": "e7370f93d1d0cde622a1f8e1c04877d8463912d04d973331ad4851f04de6915a"
  },
  "kernelspec": {
   "display_name": "Python 3.8.10 64-bit",
   "language": "python",
   "name": "python3"
  },
  "language_info": {
   "codemirror_mode": {
    "name": "ipython",
    "version": 3
   },
   "file_extension": ".py",
   "mimetype": "text/x-python",
   "name": "python",
   "nbconvert_exporter": "python",
   "pygments_lexer": "ipython3",
   "version": "3.8.10"
  },
  "orig_nbformat": 4
 },
 "nbformat": 4,
 "nbformat_minor": 2
}
