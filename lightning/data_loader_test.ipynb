{
 "cells": [
  {
   "cell_type": "code",
   "execution_count": 1,
   "metadata": {},
   "outputs": [],
   "source": [
    "import pytorch_lightning as pl"
   ]
  },
  {
   "cell_type": "code",
   "execution_count": 2,
   "metadata": {},
   "outputs": [],
   "source": [
    "import torch\n",
    "from torchvision import transforms"
   ]
  },
  {
   "cell_type": "code",
   "execution_count": 3,
   "metadata": {},
   "outputs": [],
   "source": [
    "from dataset import *"
   ]
  },
  {
   "cell_type": "code",
   "execution_count": 4,
   "metadata": {},
   "outputs": [],
   "source": [
    "\n",
    "args = {\n",
    "    \"experiment_name\":\"iresnet50-ArcFace\",\n",
    "    \"project_name\":\"dp\",\n",
    "\n",
    "    \"backbone\":\"iresnet50\",\n",
    "    \"backbone_args\":{\"in_channels\" : 1, \"num_classes\" : 512, \"dropout_prob0\" : 0.5}, \n",
    "    \"metric\":\"ArcFaceDecoder\", \n",
    "    \"metric_args\":{\"in_features\" : 512, \"out_features\" : 200},\n",
    "    \"loss\":\"CrossEntropy\",\n",
    "\n",
    "    \"datasets\" : [\n",
    "        \"../../Datasets/train_iris_nd_crosssensor_2013\", \n",
    "        \"../../Datasets/train_iris_casia_v4\",\n",
    "        #\"../../Datasets/train_iris_nd_0405\",\n",
    "        #\"../../Datasets/train_iris_utris_v1\"\n",
    "    ],\n",
    "    \"predic_dataset\" : \"../../Datasets/iris_verification_NDCSI2013_01_05\",\n",
    "    \"train_transform\" : {\n",
    "        \"Resize\" : {\"size\":[112,112]},\n",
    "        \"RandomInvert\" : {\"p\":0.2},\n",
    "        \"Normalize\" : {\"mean\":[0.485], \"std\":[0.229]},\n",
    "        \"RandomAdjustSharpness\"  : {\"sharpness_factor\":3,\"p\":0.5},\n",
    "        \"RandomAutocontrast\" : {\"p\":0.5},\n",
    "        \"RandomAffine\": {\n",
    "            \"degrees\":8, \n",
    "            \"translate\":[0.1, 0.1],\n",
    "            \"scale\":[0.8, 1.33],\n",
    "            \"shear\":10,\n",
    "            \"fill\":0\n",
    "        },\n",
    "        \"RandomErasing\":{\n",
    "            \"p\":0.5, \n",
    "            \"scale\":[0.02, 0.33],\n",
    "            \"ratio\":[0.3, 3.3],\n",
    "            \"value\":0, \n",
    "            \"inplace\":False\n",
    "        }\n",
    "    },\n",
    "    \"val_transform\" : {\n",
    "        \"Resize\" : {\"size\":[112,112]},\n",
    "        \"Normalize\" : {\"mean\":[0.485], \"std\":[0.229]},\n",
    "    },\n",
    "    \"test_transform\" : {\n",
    "        \"Resize\" : {\"size\":[112,112]},\n",
    "        \"Normalize\" : {\"mean\":[0.485], \"std\":[0.229]},\n",
    "    },\n",
    "    \"predict_transform\" : {\n",
    "        \"Resize\" : {\"size\":[112,112]},\n",
    "        \"Normalize\" : {\"mean\":[0.485], \"std\":[0.229]},\n",
    "    }\n",
    "}"
   ]
  },
  {
   "cell_type": "code",
   "execution_count": 5,
   "metadata": {},
   "outputs": [],
   "source": [
    "#train transforms\n",
    "train_transform = transforms.Compose([\n",
    "    transforms.Resize(**args[\"train_transform\"][\"Resize\"]),\n",
    "    transforms.ConvertImageDtype(torch.float),\n",
    "    transforms.RandomInvert(**args[\"train_transform\"][\"RandomInvert\"]),\n",
    "    transforms.Normalize(**args[\"train_transform\"][\"Normalize\"]),\n",
    "    transforms.RandomAdjustSharpness(\n",
    "        **args[\"train_transform\"][\"RandomAdjustSharpness\"]\n",
    "    ),\n",
    "    transforms.RandomAutocontrast(\n",
    "        **args[\"train_transform\"][\"RandomAutocontrast\"]\n",
    "    ),\n",
    "    transforms.RandomAffine(**args[\"train_transform\"][\"RandomAffine\"]),\n",
    "    transforms.RandomErasing(**args[\"train_transform\"][\"RandomErasing\"]),\n",
    "])\n",
    "#val transforms\n",
    "val_transform=transforms.Compose([\n",
    "    transforms.Resize(**args[\"val_transform\"][\"Resize\"]),\n",
    "    transforms.ConvertImageDtype(torch.float),\n",
    "    transforms.Normalize(**args[\"val_transform\"][\"Normalize\"]),\n",
    "])\n",
    "#test transforms\n",
    "test_transform=transforms.Compose([\n",
    "    transforms.Resize(**args[\"test_transform\"][\"Resize\"]),\n",
    "    transforms.ConvertImageDtype(torch.float),\n",
    "    transforms.Normalize(**args[\"test_transform\"][\"Normalize\"]),\n",
    "])\n",
    "#predict transforms \n",
    "predict_transform=transforms.Compose([\n",
    "    transforms.Resize(**args[\"predict_transform\"][\"Resize\"]),\n",
    "    transforms.ConvertImageDtype(torch.float),\n",
    "    transforms.Normalize(**args[\"predict_transform\"][\"Normalize\"]),\n",
    "])"
   ]
  },
  {
   "cell_type": "code",
   "execution_count": 6,
   "metadata": {},
   "outputs": [],
   "source": [
    "# data\n",
    "data_loader = IrisDataModule(\n",
    "    data_dir= args[\"datasets\"],\n",
    "    predic_data_dir=args[\"predic_dataset\"],\n",
    "    train_transform=train_transform,\n",
    "    val_transform=val_transform,\n",
    "    test_transform=test_transform,\n",
    "    predict_transform=predict_transform\n",
    ")"
   ]
  },
  {
   "cell_type": "code",
   "execution_count": 7,
   "metadata": {},
   "outputs": [],
   "source": [
    "data_loader.setup()"
   ]
  },
  {
   "cell_type": "code",
   "execution_count": 8,
   "metadata": {},
   "outputs": [
    {
     "data": {
      "text/plain": [
       "170280"
      ]
     },
     "execution_count": 8,
     "metadata": {},
     "output_type": "execute_result"
    }
   ],
   "source": [
    "len(data_loader.iris_full)"
   ]
  },
  {
   "cell_type": "code",
   "execution_count": 9,
   "metadata": {},
   "outputs": [],
   "source": [
    "dl = data_loader.train_dataloader()"
   ]
  },
  {
   "cell_type": "code",
   "execution_count": 10,
   "metadata": {},
   "outputs": [],
   "source": [
    "input=None\n",
    "target=None\n",
    "for x,y in dl:\n",
    "    input=x\n",
    "    target=y\n",
    "    break"
   ]
  },
  {
   "cell_type": "code",
   "execution_count": 11,
   "metadata": {},
   "outputs": [
    {
     "data": {
      "text/plain": [
       "tensor(3079)"
      ]
     },
     "execution_count": 11,
     "metadata": {},
     "output_type": "execute_result"
    }
   ],
   "source": [
    "target.max()"
   ]
  },
  {
   "cell_type": "code",
   "execution_count": 12,
   "metadata": {},
   "outputs": [],
   "source": [
    "import matplotlib.pyplot as plt"
   ]
  },
  {
   "cell_type": "code",
   "execution_count": 13,
   "metadata": {},
   "outputs": [
    {
     "data": {
      "image/png": "[encoded data removed]",
      "text/plain": [
       "<Figure size 432x288 with 9 Axes>"
      ]
     },
     "metadata": {
      "needs_background": "light"
     },
     "output_type": "display_data"
    }
   ],
   "source": [
    "for i in range(9):\n",
    "    ax = plt.subplot(3, 3, i+1)\n",
    "    ax.imshow(input[i][0],cmap='gray')"
   ]
  },
  {
   "cell_type": "code",
   "execution_count": 59,
   "metadata": {},
   "outputs": [],
   "source": [
    "import yaml"
   ]
  },
  {
   "cell_type": "code",
   "execution_count": 60,
   "metadata": {},
   "outputs": [],
   "source": [
    "with open('args.yaml', 'w') as f:\n",
    "    yaml.dump(args, f)"
   ]
  },
  {
   "cell_type": "code",
   "execution_count": 61,
   "metadata": {},
   "outputs": [],
   "source": [
    "import json"
   ]
  },
  {
   "cell_type": "code",
   "execution_count": 63,
   "metadata": {},
   "outputs": [],
   "source": [
    "with open('args.json', 'w') as f:\n",
    "    json.dump(args, f, indent=4)"
   ]
  },
  {
   "cell_type": "code",
   "execution_count": null,
   "metadata": {},
   "outputs": [],
   "source": []
  }
 ],
 "metadata": {
  "interpreter": {
   "hash": "e7370f93d1d0cde622a1f8e1c04877d8463912d04d973331ad4851f04de6915a"
  },
  "kernelspec": {
   "display_name": "Python 3.8.10 64-bit",
   "language": "python",
   "name": "python3"
  },
  "language_info": {
   "codemirror_mode": {
    "name": "ipython",
    "version": 3
   },
   "file_extension": ".py",
   "mimetype": "text/x-python",
   "name": "python",
   "nbconvert_exporter": "python",
   "pygments_lexer": "ipython3",
   "version": "3.8.10"
  },
  "orig_nbformat": 4
 },
 "nbformat": 4,
 "nbformat_minor": 2
}
