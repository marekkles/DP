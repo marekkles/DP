{
 "cells": [
  {
   "cell_type": "code",
   "execution_count": 1,
   "metadata": {},
   "outputs": [],
   "source": [
    "import torch\n",
    "from torchvision import transforms\n",
    "from dataset import *"
   ]
  },
  {
   "cell_type": "code",
   "execution_count": 1,
   "metadata": {},
   "outputs": [
    {
     "ename": "NameError",
     "evalue": "name 'IrisDataModule' is not defined",
     "output_type": "error",
     "traceback": [
      "\u001b[0;31m---------------------------------------------------------------------------\u001b[0m",
      "\u001b[0;31mNameError\u001b[0m                                 Traceback (most recent call last)",
      "\u001b[0;32m<ipython-input-1-ae9ad8754823>\u001b[0m in \u001b[0;36m<module>\u001b[0;34m\u001b[0m\n\u001b[0;32m----> 1\u001b[0;31m data_loader = IrisDataModule(\n\u001b[0m\u001b[1;32m      2\u001b[0m     data_dir= [\n\u001b[1;32m      3\u001b[0m         \u001b[0;34m\"../Datasets/train_iris_nd_crosssensor_2013\"\u001b[0m\u001b[0;34m,\u001b[0m\u001b[0;34m\u001b[0m\u001b[0;34m\u001b[0m\u001b[0m\n\u001b[1;32m      4\u001b[0m         \u001b[0;34m\"../Datasets/train_iris_casia_v4\"\u001b[0m\u001b[0;34m,\u001b[0m\u001b[0;34m\u001b[0m\u001b[0;34m\u001b[0m\u001b[0m\n\u001b[1;32m      5\u001b[0m         \u001b[0;34m\"../Datasets/train_iris_nd_0405\"\u001b[0m\u001b[0;34m,\u001b[0m\u001b[0;34m\u001b[0m\u001b[0;34m\u001b[0m\u001b[0m\n",
      "\u001b[0;31mNameError\u001b[0m: name 'IrisDataModule' is not defined"
     ]
    }
   ],
   "source": [
    "data_loader = IrisDataModule(\n",
    "    data_dir= [\n",
    "        \"../Datasets/train_iris_nd_crosssensor_2013\", \n",
    "        \"../Datasets/train_iris_casia_v4\",\n",
    "        \"../Datasets/train_iris_nd_0405\",\n",
    "        \"../Datasets/train_iris_utris_v1\"\n",
    "    ],\n",
    "    predic_data_dir=\"../Datasets/iris_verification_NDCSI2013_01_05\",\n",
    "    train_transforms=transforms.Compose([\n",
    "        transforms.Resize((112,112)),\n",
    "        transforms.PILToTensor(),\n",
    "        transforms.ConvertImageDtype(torch.float),\n",
    "        transforms.RandomInvert(p=0.5),\n",
    "        transforms.Normalize(mean=[0.485], std=[0.229]),\n",
    "        transforms.RandomAdjustSharpness(sharpness_factor=2,p=0.5),\n",
    "        transforms.RandomAutocontrast(p=0.5),\n",
    "        transforms.RandomAffine(\n",
    "            degrees=10,\n",
    "            translate=(0.1, 0.1),\n",
    "            scale=(0.8, 1.3),\n",
    "            shear=20,\n",
    "            fill=0,\n",
    "        ),\n",
    "        transforms.RandomErasing(\n",
    "            p=0.5, \n",
    "            scale=(0.02, 0.33), \n",
    "            ratio=(0.3, 3.3), \n",
    "            value=0, \n",
    "            inplace=False\n",
    "        ),\n",
    "    ]), \n",
    "    predict_transforms=transforms.Compose([\n",
    "        transforms.Resize((112,112)),\n",
    "        transforms.PILToTensor(),\n",
    "        transforms.ConvertImageDtype(torch.float),\n",
    "        transforms.Normalize(mean=[0.485], std=[0.229]),\n",
    "    ])\n",
    ")"
   ]
  },
  {
   "cell_type": "code",
   "execution_count": null,
   "metadata": {},
   "outputs": [],
   "source": [
    "data_loader.setup()\n",
    "for batch in data_loader.train_dataloader():\n",
    "    import matplotlib.pyplot as plt\n",
    "    fig, axes = plt.subplots(3,3)\n",
    "    for i, axs in enumerate(axes):\n",
    "        for j, ax in enumerate(axs):\n",
    "            ax.imshow(batch[0][i*3+j][0,:,:])\n",
    "            ax.set_title(str(batch[1][i*3+j]))\n",
    "    fig.show()\n",
    "    break"
   ]
  }
 ],
 "metadata": {
  "interpreter": {
   "hash": "e7370f93d1d0cde622a1f8e1c04877d8463912d04d973331ad4851f04de6915a"
  },
  "kernelspec": {
   "display_name": "Python 3.8.10 64-bit",
   "language": "python",
   "name": "python3"
  },
  "language_info": {
   "codemirror_mode": {
    "name": "ipython",
    "version": 3
   },
   "file_extension": ".py",
   "mimetype": "text/x-python",
   "name": "python",
   "nbconvert_exporter": "python",
   "pygments_lexer": "ipython3",
   "version": "3.8.10"
  },
  "orig_nbformat": 4
 },
 "nbformat": 4,
 "nbformat_minor": 2
}
